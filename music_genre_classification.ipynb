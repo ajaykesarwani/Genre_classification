{
 "cells": [
  {
   "cell_type": "code",
   "execution_count": 1,
   "id": "3c9fb5b9",
   "metadata": {},
   "outputs": [
    {
     "name": "stdout",
     "output_type": "stream",
     "text": [
      "Requirement already satisfied: librosa in f:\\anaconda\\lib\\site-packages (0.10.2.post1)\n",
      "Requirement already satisfied: audioread>=2.1.9 in f:\\anaconda\\lib\\site-packages (from librosa) (3.0.1)\n",
      "Requirement already satisfied: numpy!=1.22.0,!=1.22.1,!=1.22.2,>=1.20.3 in f:\\anaconda\\lib\\site-packages (from librosa) (1.23.5)\n",
      "Requirement already satisfied: scipy>=1.2.0 in f:\\anaconda\\lib\\site-packages (from librosa) (1.10.0)\n",
      "Requirement already satisfied: scikit-learn>=0.20.0 in f:\\anaconda\\lib\\site-packages (from librosa) (1.2.1)\n",
      "Requirement already satisfied: joblib>=0.14 in f:\\anaconda\\lib\\site-packages (from librosa) (1.1.1)\n",
      "Requirement already satisfied: decorator>=4.3.0 in f:\\anaconda\\lib\\site-packages (from librosa) (5.1.1)\n",
      "Requirement already satisfied: numba>=0.51.0 in f:\\anaconda\\lib\\site-packages (from librosa) (0.56.4)\n",
      "Requirement already satisfied: soundfile>=0.12.1 in f:\\anaconda\\lib\\site-packages (from librosa) (0.12.1)\n",
      "Requirement already satisfied: pooch>=1.1 in f:\\anaconda\\lib\\site-packages (from librosa) (1.4.0)\n",
      "Requirement already satisfied: soxr>=0.3.2 in f:\\anaconda\\lib\\site-packages (from librosa) (0.4.0)\n",
      "Requirement already satisfied: typing-extensions>=4.1.1 in f:\\anaconda\\lib\\site-packages (from librosa) (4.9.0)\n",
      "Requirement already satisfied: lazy-loader>=0.1 in f:\\anaconda\\lib\\site-packages (from librosa) (0.4)\n",
      "Requirement already satisfied: msgpack>=1.0 in f:\\anaconda\\lib\\site-packages (from librosa) (1.0.3)\n",
      "Requirement already satisfied: packaging in f:\\anaconda\\lib\\site-packages (from lazy-loader>=0.1->librosa) (22.0)\n",
      "Requirement already satisfied: llvmlite<0.40,>=0.39.0dev0 in f:\\anaconda\\lib\\site-packages (from numba>=0.51.0->librosa) (0.39.1)\n",
      "Requirement already satisfied: setuptools in f:\\anaconda\\lib\\site-packages (from numba>=0.51.0->librosa) (65.6.3)\n",
      "Requirement already satisfied: requests in f:\\anaconda\\lib\\site-packages (from pooch>=1.1->librosa) (2.28.1)\n",
      "Requirement already satisfied: appdirs in f:\\anaconda\\lib\\site-packages (from pooch>=1.1->librosa) (1.4.4)\n",
      "Requirement already satisfied: threadpoolctl>=2.0.0 in f:\\anaconda\\lib\\site-packages (from scikit-learn>=0.20.0->librosa) (2.2.0)\n",
      "Requirement already satisfied: cffi>=1.0 in f:\\anaconda\\lib\\site-packages (from soundfile>=0.12.1->librosa) (1.15.1)\n",
      "Requirement already satisfied: pycparser in f:\\anaconda\\lib\\site-packages (from cffi>=1.0->soundfile>=0.12.1->librosa) (2.21)\n",
      "Requirement already satisfied: charset-normalizer<3,>=2 in f:\\anaconda\\lib\\site-packages (from requests->pooch>=1.1->librosa) (2.0.4)\n",
      "Requirement already satisfied: idna<4,>=2.5 in f:\\anaconda\\lib\\site-packages (from requests->pooch>=1.1->librosa) (3.4)\n",
      "Requirement already satisfied: urllib3<1.27,>=1.21.1 in f:\\anaconda\\lib\\site-packages (from requests->pooch>=1.1->librosa) (1.26.14)\n",
      "Requirement already satisfied: certifi>=2017.4.17 in f:\\anaconda\\lib\\site-packages (from requests->pooch>=1.1->librosa) (2022.12.7)\n"
     ]
    },
    {
     "name": "stderr",
     "output_type": "stream",
     "text": [
      "WARNING: Ignoring invalid distribution -uggingface-hub (f:\\anaconda\\lib\\site-packages)\n",
      "WARNING: Ignoring invalid distribution -uggingface-hub (f:\\anaconda\\lib\\site-packages)\n",
      "WARNING: Ignoring invalid distribution -uggingface-hub (f:\\anaconda\\lib\\site-packages)\n"
     ]
    },
    {
     "name": "stdout",
     "output_type": "stream",
     "text": [
      "Requirement already satisfied: pydub in f:\\anaconda\\lib\\site-packages (0.25.1)\n"
     ]
    },
    {
     "name": "stderr",
     "output_type": "stream",
     "text": [
      "WARNING: Ignoring invalid distribution -uggingface-hub (f:\\anaconda\\lib\\site-packages)\n",
      "WARNING: Ignoring invalid distribution -uggingface-hub (f:\\anaconda\\lib\\site-packages)\n",
      "WARNING: Ignoring invalid distribution -uggingface-hub (f:\\anaconda\\lib\\site-packages)\n"
     ]
    },
    {
     "name": "stdout",
     "output_type": "stream",
     "text": [
      "Requirement already satisfied: glob2 in f:\\anaconda\\lib\\site-packages (0.7)\n"
     ]
    },
    {
     "name": "stderr",
     "output_type": "stream",
     "text": [
      "WARNING: Ignoring invalid distribution -uggingface-hub (f:\\anaconda\\lib\\site-packages)\n",
      "WARNING: Ignoring invalid distribution -uggingface-hub (f:\\anaconda\\lib\\site-packages)\n",
      "WARNING: Ignoring invalid distribution -uggingface-hub (f:\\anaconda\\lib\\site-packages)\n"
     ]
    },
    {
     "name": "stdout",
     "output_type": "stream",
     "text": [
      "Requirement already satisfied: yagmail in f:\\anaconda\\lib\\site-packages (0.15.293)\n",
      "Requirement already satisfied: premailer in f:\\anaconda\\lib\\site-packages (from yagmail) (3.10.0)\n",
      "Requirement already satisfied: lxml in f:\\anaconda\\lib\\site-packages (from premailer->yagmail) (4.9.1)\n",
      "Requirement already satisfied: cssselect in f:\\anaconda\\lib\\site-packages (from premailer->yagmail) (1.1.0)\n",
      "Requirement already satisfied: cssutils in f:\\anaconda\\lib\\site-packages (from premailer->yagmail) (2.11.1)\n",
      "Requirement already satisfied: requests in f:\\anaconda\\lib\\site-packages (from premailer->yagmail) (2.28.1)\n",
      "Requirement already satisfied: cachetools in f:\\anaconda\\lib\\site-packages (from premailer->yagmail) (5.3.2)\n",
      "Requirement already satisfied: more-itertools in f:\\anaconda\\lib\\site-packages (from cssutils->premailer->yagmail) (10.4.0)\n",
      "Requirement already satisfied: charset-normalizer<3,>=2 in f:\\anaconda\\lib\\site-packages (from requests->premailer->yagmail) (2.0.4)\n",
      "Requirement already satisfied: idna<4,>=2.5 in f:\\anaconda\\lib\\site-packages (from requests->premailer->yagmail) (3.4)\n",
      "Requirement already satisfied: urllib3<1.27,>=1.21.1 in f:\\anaconda\\lib\\site-packages (from requests->premailer->yagmail) (1.26.14)\n",
      "Requirement already satisfied: certifi>=2017.4.17 in f:\\anaconda\\lib\\site-packages (from requests->premailer->yagmail) (2022.12.7)\n"
     ]
    },
    {
     "name": "stderr",
     "output_type": "stream",
     "text": [
      "WARNING: Ignoring invalid distribution -uggingface-hub (f:\\anaconda\\lib\\site-packages)\n",
      "WARNING: Ignoring invalid distribution -uggingface-hub (f:\\anaconda\\lib\\site-packages)\n",
      "WARNING: Ignoring invalid distribution -uggingface-hub (f:\\anaconda\\lib\\site-packages)\n"
     ]
    },
    {
     "name": "stdout",
     "output_type": "stream",
     "text": [
      "Requirement already satisfied: ffmpeg in f:\\anaconda\\lib\\site-packages (1.4)\n"
     ]
    },
    {
     "name": "stderr",
     "output_type": "stream",
     "text": [
      "WARNING: Ignoring invalid distribution -uggingface-hub (f:\\anaconda\\lib\\site-packages)\n",
      "WARNING: Ignoring invalid distribution -uggingface-hub (f:\\anaconda\\lib\\site-packages)\n",
      "WARNING: Ignoring invalid distribution -uggingface-hub (f:\\anaconda\\lib\\site-packages)\n"
     ]
    },
    {
     "name": "stdout",
     "output_type": "stream",
     "text": [
      "ffmpeg version 7.0.2-full_build-www.gyan.dev Copyright (c) 2000-2024 the FFmpeg developers\n",
      "built with gcc 13.2.0 (Rev5, Built by MSYS2 project)\n",
      "configuration: --enable-gpl --enable-version3 --enable-static --disable-w32threads --disable-autodetect --enable-fontconfig --enable-iconv --enable-gnutls --enable-libxml2 --enable-gmp --enable-bzlib --enable-lzma --enable-libsnappy --enable-zlib --enable-librist --enable-libsrt --enable-libssh --enable-libzmq --enable-avisynth --enable-libbluray --enable-libcaca --enable-sdl2 --enable-libaribb24 --enable-libaribcaption --enable-libdav1d --enable-libdavs2 --enable-libuavs3d --enable-libxevd --enable-libzvbi --enable-librav1e --enable-libsvtav1 --enable-libwebp --enable-libx264 --enable-libx265 --enable-libxavs2 --enable-libxeve --enable-libxvid --enable-libaom --enable-libjxl --enable-libopenjpeg --enable-libvpx --enable-mediafoundation --enable-libass --enable-frei0r --enable-libfreetype --enable-libfribidi --enable-libharfbuzz --enable-liblensfun --enable-libvidstab --enable-libvmaf --enable-libzimg --enable-amf --enable-cuda-llvm --enable-cuvid --enable-dxva2 --enable-d3d11va --enable-d3d12va --enable-ffnvcodec --enable-libvpl --enable-nvdec --enable-nvenc --enable-vaapi --enable-libshaderc --enable-vulkan --enable-libplacebo --enable-opencl --enable-libcdio --enable-libgme --enable-libmodplug --enable-libopenmpt --enable-libopencore-amrwb --enable-libmp3lame --enable-libshine --enable-libtheora --enable-libtwolame --enable-libvo-amrwbenc --enable-libcodec2 --enable-libilbc --enable-libgsm --enable-libopencore-amrnb --enable-libopus --enable-libspeex --enable-libvorbis --enable-ladspa --enable-libbs2b --enable-libflite --enable-libmysofa --enable-librubberband --enable-libsoxr --enable-chromaprint\n",
      "libavutil      59.  8.100 / 59.  8.100\n",
      "libavcodec     61.  3.100 / 61.  3.100\n",
      "libavformat    61.  1.100 / 61.  1.100\n",
      "libavdevice    61.  1.100 / 61.  1.100\n",
      "libavfilter    10.  1.100 / 10.  1.100\n",
      "libswscale      8.  1.100 /  8.  1.100\n",
      "libswresample   5.  1.100 /  5.  1.100\n",
      "libpostproc    58.  1.100 / 58.  1.100\n"
     ]
    }
   ],
   "source": [
    "!pip install librosa\n",
    "!pip install pydub\n",
    "!pip install glob2\n",
    "!pip install yagmail\n",
    "!pip install ffmpeg\n",
    "!ffmpeg -version"
   ]
  },
  {
   "cell_type": "code",
   "execution_count": 2,
   "id": "f2fad37c",
   "metadata": {},
   "outputs": [
    {
     "name": "stdout",
     "output_type": "stream",
     "text": [
      "WARNING:tensorflow:From F:\\Anaconda\\lib\\site-packages\\keras\\src\\losses.py:2976: The name tf.losses.sparse_softmax_cross_entropy is deprecated. Please use tf.compat.v1.losses.sparse_softmax_cross_entropy instead.\n",
      "\n"
     ]
    }
   ],
   "source": [
    "import librosa\n",
    "import librosa.display\n",
    "import matplotlib.pyplot as plt\n",
    "import yagmail\n",
    "import getpass\n",
    "import datetime\n",
    "import pywhatkit\n",
    "from pydub import AudioSegment\n",
    "import numpy as np\n",
    "import os\n",
    "import glob2\n",
    "from sklearn.model_selection import train_test_split\n",
    "import keras\n",
    "from keras.callbacks import EarlyStopping, ModelCheckpoint\n",
    "import tensorflow as tf\n",
    "from shutil import which\n",
    "from tensorflow.keras.preprocessing.sequence import pad_sequences\n",
    "\n",
    "# Constants\n",
    "SAMPLING_RATE = 22050  # Standard sampling rate for audio files\n",
    "SAMPLES_PER_TRACK = SAMPLING_RATE * 30  # Assume 30-second tracks\n",
    "TOTAL_SEGMENTS = 10  # Number of segments for feature extraction\n",
    "DATASET_PATH = \"./genres_original\"\n",
    "UPLOADED_PATH = './Qyamat.mp3'  # Example path to an uploaded file\n",
    "AudioSegment.converter = \"./ffmpeg.exe\""
   ]
  },
  {
   "cell_type": "code",
   "execution_count": null,
   "id": "fb4cf7f3",
   "metadata": {},
   "outputs": [],
   "source": []
  },
  {
   "cell_type": "code",
   "execution_count": 10,
   "id": "4cd81610",
   "metadata": {},
   "outputs": [],
   "source": [
    "# Function to extract MFCC features from an audio file\n",
    "def extract_mfcc_feature(file_path, num_mfcc=13, n_fft=2048, hop_length=512):\n",
    "    print(f\"Source file path: {file_path}\")\n",
    "    try:\n",
    "        y, sr = librosa.load(file_path, sr=SAMPLING_RATE)\n",
    "        print(\"Loaded audio for MFCC extraction.\")\n",
    "        \n",
    "        # Extract MFCC features\n",
    "        mfcc = librosa.feature.mfcc(y=y, sr=sr, n_mfcc=num_mfcc, n_fft=n_fft, hop_length=hop_length)\n",
    "        return mfcc.T  # Transpose to get shape (time, mfcc_features)\n",
    "    except Exception as e:\n",
    "        print(f\"Error loading audio for MFCC extraction: {e}\")\n",
    "        raise\n",
    "\n",
    "# Function to convert MP3 files to WAV format\n",
    "def convert_mp3_to_wav(mp3_path):\n",
    "    if not mp3_path.endswith('.mp3'):\n",
    "        print(\"The provided file does not have a .mp3 extension.\")\n",
    "        return None\n",
    "\n",
    "    wav_path = mp3_path.replace('.mp3', '.wav')\n",
    "    AudioSegment.converter = which(\"ffmpeg\")\n",
    "    \n",
    "    try:\n",
    "        audio = AudioSegment.from_mp3(mp3_path)\n",
    "        audio.export(wav_path, format=\"wav\")\n",
    "        if os.path.exists(wav_path):\n",
    "            print(f\"Converted .mp3 file into .wav file: {wav_path}\")\n",
    "        else:\n",
    "            print(f\"Conversion failed, {wav_path} was not created.\")\n",
    "    except Exception as e:\n",
    "        print(f\"An error occurred: {e}\")\n",
    "    \n",
    "    return wav_path\n",
    "\n",
    "# Function to preprocess audio file\n",
    "def preprocess_mfcc(mfcc_features, expected_shape):\n",
    "    # Truncate or pad the MFCC features\n",
    "    if mfcc_features.shape[0] > expected_shape[0]:\n",
    "        # Truncate the MFCC features\n",
    "        mfcc_features = mfcc_features[:expected_shape[0], :]\n",
    "    elif mfcc_features.shape[0] < expected_shape[0]:\n",
    "        # Pad the MFCC features with zeros\n",
    "        padding = expected_shape[0] - mfcc_features.shape[0]\n",
    "        mfcc_features = np.pad(mfcc_features, ((0, padding), (0, 0)), mode='constant')\n",
    "\n",
    "    # Add the channel dimension\n",
    "    mfcc_features = np.expand_dims(mfcc_features, axis=-1)\n",
    "\n",
    "    return mfcc_features\n",
    "# Function to make genre predictions based on an audio file\n",
    "def do_prediction(model):\n",
    "    genre_pred = {\n",
    "        0: \"blues\",\n",
    "        1: \"classical\",\n",
    "        2: \"country\",\n",
    "        3: \"disco\",\n",
    "        4: \"hiphop\",\n",
    "        5: \"jazz\",\n",
    "        6: \"metal\",\n",
    "        7: \"pop\",\n",
    "        8: \"reggae\",\n",
    "        9: \"rock\",\n",
    "    }\n",
    "\n",
    "    # Convert MP3 to WAV first\n",
    "    wav_path = convert_mp3_to_wav(UPLOADED_PATH)\n",
    "    print(\".wav is stored in the path : \" + wav_path)\n",
    "    \n",
    "    # Extract MFCC features\n",
    "    mfcc_features = extract_mfcc_feature(wav_path)\n",
    "\n",
    "    # Preprocess MFCC to match the expected input shape\n",
    "    expected_shape = (130, 13)  # Replace with the actual expected shape of your model\n",
    "    mfcc_features = preprocess_mfcc(mfcc_features, expected_shape)\n",
    "\n",
    "    # Expand dimensions to create a batch (batch_size, time_steps, num_features, channels)\n",
    "    mfcc_features = np.expand_dims(mfcc_features, axis=0)\n",
    "\n",
    "    # Perform prediction\n",
    "    prediction = model.predict(mfcc_features)\n",
    "    predicted_ind = np.argmax(prediction, axis=1)[0]  # Get the index of the predicted genre\n",
    "\n",
    "    # Map the predicted index to the genre name\n",
    "    predicted_genre = genre_pred.get(predicted_ind, \"Unknown Genre\")\n",
    "\n",
    "    return predicted_genre\n",
    "\n",
    "# Function to plot the training history of the model\n",
    "def plot_performance_history(hist):\n",
    "    figure, ax = plt.subplots(2)\n",
    "    ax[0].plot(hist.history[\"accuracy\"], label=\"Training Accuracy\")\n",
    "    ax[0].plot(hist.history[\"val_accuracy\"], label=\"Validation Accuracy\")\n",
    "    ax[0].set_ylabel(\"Accuracy\")\n",
    "    ax[0].legend(loc=\"lower right\")\n",
    "    ax[0].set_title(\"Accuracy Check\")\n",
    "\n",
    "    ax[1].plot(hist.history[\"loss\"], label=\"Training Loss\")\n",
    "    ax[1].plot(hist.history[\"val_loss\"], label=\"Validation Loss\")\n",
    "    ax[1].set_ylabel(\"Loss\")\n",
    "    ax[1].set_xlabel(\"Epoch\")\n",
    "    ax[1].legend(loc=\"upper right\")\n",
    "    ax[1].set_title(\"Loss Evaluation\")\n",
    "\n",
    "    plt.show()\n",
    "\n",
    "# Function to extract MFCC features from all audio files in the dataset\n",
    "def extract_all_mfcc_feature():\n",
    "    value_each_seg = int(SAMPLES_PER_TRACK / TOTAL_SEGMENTS)\n",
    "    data_mfcc = []\n",
    "    data_label = []\n",
    "\n",
    "    genres = ['blues', 'classical', 'country', 'disco', 'hiphop', 'jazz', 'metal', 'pop', 'reggae', 'rock']\n",
    "    i = 0\n",
    "    for genre in genres:\n",
    "        filenames = glob2.glob(os.path.join(DATASET_PATH, genre, '*.wav'))\n",
    "        if not filenames:\n",
    "            print(f\"No files found for genre: {genre}\")\n",
    "            continue\n",
    "        for file in filenames:\n",
    "            y, sr = librosa.load(file, sr=SAMPLING_RATE)\n",
    "            for d in range(TOTAL_SEGMENTS):\n",
    "                start = value_each_seg * d\n",
    "                finish = start + value_each_seg\n",
    "                mfcc = librosa.feature.mfcc(y=y[start:finish], sr=sr, n_mfcc=13)\n",
    "                mfcc = mfcc.T\n",
    "                if len(mfcc) == 130:\n",
    "                    data_mfcc.append(mfcc.tolist())\n",
    "                    data_label.append(i)\n",
    "        i += 1\n",
    "\n",
    "    return np.array(data_mfcc), np.array(data_label)\n",
    "\n",
    "# Function to create a CNN model for genre classification\n",
    "def create_model(input_shape):\n",
    "    model = keras.Sequential()\n",
    "    model.add(keras.layers.Conv2D(32, (3, 3), activation='relu', input_shape=input_shape))\n",
    "    model.add(keras.layers.MaxPooling2D((3, 3), strides=(2, 2), padding='same'))\n",
    "    model.add(keras.layers.BatchNormalization())\n",
    "    model.add(keras.layers.Conv2D(32, (3, 3), activation='relu'))\n",
    "    model.add(keras.layers.MaxPooling2D((3, 3), strides=(2, 2), padding='same'))\n",
    "    model.add(keras.layers.BatchNormalization())\n",
    "    model.add(keras.layers.Conv2D(32, (2, 2), activation='relu'))\n",
    "    model.add(keras.layers.MaxPooling2D((2, 2), strides=(2, 2), padding='same'))\n",
    "    model.add(keras.layers.BatchNormalization())\n",
    "    model.add(keras.layers.Flatten())\n",
    "    model.add(keras.layers.Dense(64, activation='relu'))\n",
    "    model.add(keras.layers.Dropout(0.25))\n",
    "    model.add(keras.layers.Dense(10, activation='softmax'))\n",
    "\n",
    "    return model\n",
    "\n",
    "# Function to prepare the dataset for training, validation, and testing\n",
    "def dataset_preparation(split_test_size, split_validation_size):\n",
    "    data_mfcc, data_label = extract_all_mfcc_feature()\n",
    "\n",
    "    if data_mfcc.size == 0:\n",
    "        raise ValueError(\"No data found. Ensure the dataset path and files are correct.\")\n",
    "\n",
    "    train_data, test_data, train_label, test_label = train_test_split(data_mfcc, data_label, test_size=split_test_size, random_state=42)\n",
    "    train_data, validation_data, train_label, validation_label = train_test_split(train_data, train_label, test_size=split_validation_size, random_state=42)\n",
    "\n",
    "    train_data = train_data[..., np.newaxis]\n",
    "    validation_data = validation_data[..., np.newaxis]\n",
    "    test_data = test_data[..., np.newaxis]\n",
    "\n",
    "    return train_data, validation_data, test_data, train_label, validation_label, test_label\n",
    "\n"
   ]
  },
  {
   "cell_type": "code",
   "execution_count": 4,
   "id": "f083361b",
   "metadata": {},
   "outputs": [
    {
     "name": "stdout",
     "output_type": "stream",
     "text": [
      "WARNING:tensorflow:From F:\\Anaconda\\lib\\site-packages\\keras\\src\\backend.py:873: The name tf.get_default_graph is deprecated. Please use tf.compat.v1.get_default_graph instead.\n",
      "\n",
      "WARNING:tensorflow:From F:\\Anaconda\\lib\\site-packages\\keras\\src\\layers\\pooling\\max_pooling2d.py:161: The name tf.nn.max_pool is deprecated. Please use tf.nn.max_pool2d instead.\n",
      "\n",
      "Epoch 1/30\n",
      "WARNING:tensorflow:From F:\\Anaconda\\lib\\site-packages\\keras\\src\\utils\\tf_utils.py:492: The name tf.ragged.RaggedTensorValue is deprecated. Please use tf.compat.v1.ragged.RaggedTensorValue instead.\n",
      "\n",
      "WARNING:tensorflow:From F:\\Anaconda\\lib\\site-packages\\keras\\src\\engine\\base_layer_utils.py:384: The name tf.executing_eagerly_outside_functions is deprecated. Please use tf.compat.v1.executing_eagerly_outside_functions instead.\n",
      "\n",
      "219/219 [==============================] - ETA: 0s - loss: 2.2374 - accuracy: 0.2763"
     ]
    },
    {
     "name": "stderr",
     "output_type": "stream",
     "text": [
      "F:\\Anaconda\\lib\\site-packages\\keras\\src\\engine\\training.py:3103: UserWarning: You are saving your model as an HDF5 file via `model.save()`. This file format is considered legacy. We recommend using instead the native Keras format, e.g. `model.save('my_model.keras')`.\n",
      "  saving_api.save_model(\n"
     ]
    },
    {
     "name": "stdout",
     "output_type": "stream",
     "text": [
      "219/219 [==============================] - 30s 46ms/step - loss: 2.2374 - accuracy: 0.2763 - val_loss: 1.7811 - val_accuracy: 0.3974\n",
      "Epoch 2/30\n",
      "219/219 [==============================] - 8s 35ms/step - loss: 1.7218 - accuracy: 0.3993 - val_loss: 1.5047 - val_accuracy: 0.4545\n",
      "Epoch 3/30\n",
      "219/219 [==============================] - 7s 32ms/step - loss: 1.5094 - accuracy: 0.4576 - val_loss: 1.3754 - val_accuracy: 0.5105\n",
      "Epoch 4/30\n",
      "219/219 [==============================] - 7s 32ms/step - loss: 1.4014 - accuracy: 0.4996 - val_loss: 1.2864 - val_accuracy: 0.5355\n",
      "Epoch 5/30\n",
      "219/219 [==============================] - 7s 32ms/step - loss: 1.3251 - accuracy: 0.5198 - val_loss: 1.2575 - val_accuracy: 0.5455\n",
      "Epoch 6/30\n",
      "219/219 [==============================] - 7s 32ms/step - loss: 1.2559 - accuracy: 0.5536 - val_loss: 1.2194 - val_accuracy: 0.5606\n",
      "Epoch 7/30\n",
      "219/219 [==============================] - 7s 32ms/step - loss: 1.2038 - accuracy: 0.5763 - val_loss: 1.1946 - val_accuracy: 0.5636\n",
      "Epoch 8/30\n",
      "219/219 [==============================] - 7s 32ms/step - loss: 1.1441 - accuracy: 0.5941 - val_loss: 1.1125 - val_accuracy: 0.6046\n",
      "Epoch 9/30\n",
      "219/219 [==============================] - 7s 32ms/step - loss: 1.1123 - accuracy: 0.6035 - val_loss: 1.0955 - val_accuracy: 0.6046\n",
      "Epoch 10/30\n",
      "219/219 [==============================] - 7s 32ms/step - loss: 1.0597 - accuracy: 0.6281 - val_loss: 1.0856 - val_accuracy: 0.6056\n",
      "Epoch 11/30\n",
      "219/219 [==============================] - 7s 32ms/step - loss: 1.0257 - accuracy: 0.6412 - val_loss: 1.0580 - val_accuracy: 0.6216\n",
      "Epoch 12/30\n",
      "219/219 [==============================] - 8s 36ms/step - loss: 0.9790 - accuracy: 0.6513 - val_loss: 1.0137 - val_accuracy: 0.6336\n",
      "Epoch 13/30\n",
      "219/219 [==============================] - 7s 32ms/step - loss: 0.9562 - accuracy: 0.6576 - val_loss: 1.0148 - val_accuracy: 0.6406\n",
      "Epoch 14/30\n",
      "219/219 [==============================] - 7s 33ms/step - loss: 0.9208 - accuracy: 0.6763 - val_loss: 0.9724 - val_accuracy: 0.6567\n",
      "Epoch 15/30\n",
      "219/219 [==============================] - 7s 32ms/step - loss: 0.8982 - accuracy: 0.6862 - val_loss: 0.9634 - val_accuracy: 0.6667\n",
      "Epoch 16/30\n",
      "219/219 [==============================] - 7s 32ms/step - loss: 0.8783 - accuracy: 0.6922 - val_loss: 0.9483 - val_accuracy: 0.6717\n",
      "Epoch 17/30\n",
      "219/219 [==============================] - 7s 34ms/step - loss: 0.8615 - accuracy: 0.6945 - val_loss: 0.9312 - val_accuracy: 0.6827\n",
      "Epoch 18/30\n",
      "219/219 [==============================] - 7s 33ms/step - loss: 0.8201 - accuracy: 0.7128 - val_loss: 0.9090 - val_accuracy: 0.6697\n",
      "Epoch 19/30\n",
      "219/219 [==============================] - 7s 33ms/step - loss: 0.8072 - accuracy: 0.7217 - val_loss: 0.8972 - val_accuracy: 0.6897\n",
      "Epoch 20/30\n",
      "219/219 [==============================] - 7s 32ms/step - loss: 0.7864 - accuracy: 0.7236 - val_loss: 0.9067 - val_accuracy: 0.6817\n",
      "Epoch 21/30\n",
      "219/219 [==============================] - 7s 32ms/step - loss: 0.7663 - accuracy: 0.7320 - val_loss: 0.8877 - val_accuracy: 0.6837\n",
      "Epoch 22/30\n",
      "219/219 [==============================] - 7s 32ms/step - loss: 0.7484 - accuracy: 0.7364 - val_loss: 0.8649 - val_accuracy: 0.7027\n",
      "Epoch 23/30\n",
      "219/219 [==============================] - 7s 32ms/step - loss: 0.7357 - accuracy: 0.7387 - val_loss: 0.8638 - val_accuracy: 0.7067\n",
      "Epoch 24/30\n",
      "219/219 [==============================] - 7s 32ms/step - loss: 0.7189 - accuracy: 0.7490 - val_loss: 0.8698 - val_accuracy: 0.7037\n",
      "Epoch 25/30\n",
      "219/219 [==============================] - 7s 32ms/step - loss: 0.6915 - accuracy: 0.7598 - val_loss: 0.8354 - val_accuracy: 0.6977\n",
      "Epoch 26/30\n",
      "219/219 [==============================] - 7s 32ms/step - loss: 0.6786 - accuracy: 0.7618 - val_loss: 0.8323 - val_accuracy: 0.7107\n",
      "Epoch 27/30\n",
      "219/219 [==============================] - 7s 32ms/step - loss: 0.6650 - accuracy: 0.7679 - val_loss: 0.8345 - val_accuracy: 0.7117\n",
      "Epoch 28/30\n",
      "219/219 [==============================] - 7s 32ms/step - loss: 0.6550 - accuracy: 0.7698 - val_loss: 0.8492 - val_accuracy: 0.7097\n",
      "Epoch 29/30\n",
      "219/219 [==============================] - 7s 32ms/step - loss: 0.6303 - accuracy: 0.7837 - val_loss: 0.8242 - val_accuracy: 0.7157\n",
      "Epoch 30/30\n",
      "219/219 [==============================] - 7s 32ms/step - loss: 0.6452 - accuracy: 0.7764 - val_loss: 0.8064 - val_accuracy: 0.7247\n"
     ]
    },
    {
     "data": {
      "image/png": "[encoded data removed]",
      "text/plain": [
       "<Figure size 640x480 with 2 Axes>"
      ]
     },
     "metadata": {},
     "output_type": "display_data"
    },
    {
     "name": "stdout",
     "output_type": "stream",
     "text": [
      "63/63 [==============================] - 1s 11ms/step - loss: 0.7665 - accuracy: 0.7362\n",
      "Test Loss: 0.7664926648139954\n",
      "Test Accuracy: 0.7362362146377563\n"
     ]
    }
   ],
   "source": [
    "# Main block to run the model training and evaluation\n",
    "if __name__ == \"__main__\":\n",
    "    # Prepare dataset\n",
    "    train_data, validation_data, test_data, train_label, validation_label, test_label = dataset_preparation(0.20, 0.125)\n",
    "    input_shape = (train_data.shape[1], train_data.shape[2], 1)\n",
    "    \n",
    "    # Create model\n",
    "    model = create_model(input_shape)\n",
    "\n",
    "    # Compile model\n",
    "    model.compile(optimizer=keras.optimizers.Adam(learning_rate=0.0001),\n",
    "                  loss='sparse_categorical_crossentropy',\n",
    "                  metrics=['accuracy'])\n",
    "\n",
    "    # Set up callbacks\n",
    "    early_stopping = EarlyStopping(monitor='val_loss', patience=5, restore_best_weights=True)\n",
    "    model_checkpoint = ModelCheckpoint('best_model.h5', monitor='val_loss', save_best_only=True)\n",
    "\n",
    "    # Train model with early stopping and checkpointing\n",
    "    hist = model.fit(train_data, train_label,\n",
    "                     validation_data=(validation_data, validation_label),\n",
    "                     epochs=30,\n",
    "                     batch_size=32,\n",
    "                     callbacks=[early_stopping, model_checkpoint])\n",
    "\n",
    "    # Plot performance history\n",
    "    plot_performance_history(hist)\n",
    "\n",
    "    # Load the best model saved by ModelCheckpoint\n",
    "    model.load_weights('best_model.h5')\n",
    "\n",
    "    # Evaluate on test data\n",
    "    test_loss, test_accuracy = model.evaluate(test_data, test_label)\n",
    "    print(f\"Test Loss: {test_loss}\")\n",
    "    print(f\"Test Accuracy: {test_accuracy}\")\n"
   ]
  },
  {
   "cell_type": "code",
   "execution_count": null,
   "id": "e15c514e",
   "metadata": {},
   "outputs": [],
   "source": [
    "# Function to display MFCC features of a song\n",
    "def display_mfcc(song, title):\n",
    "    y, _ = librosa.load(song)\n",
    "    mfcc = librosa.feature.mfcc(y=y)\n",
    "\n",
    "    plt.figure(figsize=(6, 4))\n",
    "    librosa.display.specshow(mfcc, x_axis='time', y_axis='mel')\n",
    "    plt.colorbar()\n",
    "    plt.title(title)\n",
    "    plt.tight_layout()\n",
    "    plt.show()\n",
    "\n",
    "# Function to send email updates\n",
    "def send_email_update(FROM='your_email@gmail.com', TO='recipient_email@example.com', TEXT=\"Hi\"):\n",
    "    password = getpass.getpass('Enter Your Email Password')\n",
    "    yag = yagmail.SMTP(user=FROM, password=password, host='smtp.gmail.com')\n",
    "    SUB = \"Genre update on your uploaded song\"\n",
    "    yag.send(to=TO, subject=SUB, contents=TEXT)\n",
    "    print(\"Email sent Successfully!\")\n",
    "\n",
    "# Function to send WhatsApp updates\n",
    "def send_whatsapp_update(msg='Hi', mob=\"+919051687802\"):\n",
    "    now = datetime.datetime.now()\n",
    "    hr = now.hour\n",
    "    mins = now.minute + 2  # Send the message two minutes from now\n"
   ]
  },
  {
   "cell_type": "code",
   "execution_count": 9,
   "id": "d07c5f69",
   "metadata": {},
   "outputs": [
    {
     "name": "stdout",
     "output_type": "stream",
     "text": [
      "Conversion complete: ./Qyamat.wav\n",
      "we got the path: ./Qyamat.wav\n",
      "Source file path: ./Qyamat.wav\n",
      "Loaded audio for MFCC extraction.\n",
      "1/1 [==============================] - 0s 47ms/step\n"
     ]
    },
    {
     "data": {
      "text/plain": [
       "'country'"
      ]
     },
     "execution_count": 9,
     "metadata": {},
     "output_type": "execute_result"
    }
   ],
   "source": [
    "do_prediction(model)"
   ]
  },
  {
   "cell_type": "code",
   "execution_count": null,
   "id": "28e7361e",
   "metadata": {},
   "outputs": [],
   "source": []
  }
 ],
 "metadata": {
  "kernelspec": {
   "display_name": "Python 3 (ipykernel)",
   "language": "python",
   "name": "python3"
  },
  "language_info": {
   "codemirror_mode": {
    "name": "ipython",
    "version": 3
   },
   "file_extension": ".py",
   "mimetype": "text/x-python",
   "name": "python",
   "nbconvert_exporter": "python",
   "pygments_lexer": "ipython3",
   "version": "3.10.9"
  }
 },
 "nbformat": 4,
 "nbformat_minor": 5
}
